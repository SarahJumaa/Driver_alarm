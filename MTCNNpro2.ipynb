{
 "cells": [
  {
   "cell_type": "code",
   "execution_count": 1,
   "metadata": {},
   "outputs": [
    {
     "name": "stdout",
     "output_type": "stream",
     "text": [
      "pygame 2.1.2 (SDL 2.0.18, Python 3.7.6)\n",
      "Hello from the pygame community. https://www.pygame.org/contribute.html\n"
     ]
    }
   ],
   "source": [
    "import cv2\n",
    "import time\n",
    "from pygame import mixer\n",
    "from playsound import playsound\n",
    "from mtcnn.mtcnn import MTCNN\n",
    "detector = MTCNN()"
   ]
  },
  {
   "cell_type": "code",
   "execution_count": 2,
   "metadata": {},
   "outputs": [
    {
     "name": "stdout",
     "output_type": "stream",
     "text": [
      "send to his fimaly\n",
      "send to his fimaly\n",
      "send to his fimaly\n",
      "send to his fimaly\n",
      "send to his fimaly\n"
     ]
    }
   ],
   "source": [
    "threshold_frame=4\n",
    "threshold_frame1=12\n",
    "c1=0\n",
    "c2=0\n",
    "c3=0\n",
    "c4=0\n",
    "cap = cv2.VideoCapture(0)\n",
    "mixer.init()\n",
    "mixer.music.load('E:\\الفصل التاني\\مشروع 2\\danger-alarm-23793.mp3')\n",
    "while True: \n",
    "    #Capture frame-by-frame\n",
    "    __, frame = cap.read()\n",
    "    \n",
    "    #Use MTCNN to detect faces\n",
    "    result = detector.detect_faces(frame)\n",
    "    if result != []:\n",
    "        for person in result:\n",
    "            bounding_box = person['box']\n",
    "            keypoints = person['keypoints']\n",
    "    \n",
    "            cv2.rectangle(frame,\n",
    "                          (bounding_box[0], bounding_box[1]),\n",
    "                          (bounding_box[0]+bounding_box[2], bounding_box[1] + bounding_box[3]),\n",
    "                          (0,155,255),\n",
    "                          2)\n",
    "    \n",
    "            cv2.circle(frame,(keypoints['left_eye']), 2, (0,155,255), 2)\n",
    "            cv2.circle(frame,(keypoints['right_eye']), 2, (0,155,255), 2)\n",
    "            cv2.circle(frame,(keypoints['nose']), 2, (0,155,255), 2)\n",
    "            cv2.circle(frame,(keypoints['mouth_left']), 2, (0,155,255), 2)\n",
    "            cv2.circle(frame,(keypoints['mouth_right']), 2, (0,155,255), 2)\n",
    "            \n",
    "            x_left_eye,y_left_eye=person.get('keypoints').get('left_eye')\n",
    "            x_right_eye,y_right_eye=person.get('keypoints').get('right_eye')\n",
    "            x_nose,y_nose=person.get('keypoints').get('nose')\n",
    "            x_mouth_left,y_mouth_left=person.get('keypoints').get('mouth_left')\n",
    "            x_mouth_right,y_mouth_right=person.get('keypoints').get('mouth_right')\n",
    "            \n",
    "            \n",
    "            val1=x_nose-x_left_eye\n",
    "            val2=x_right_eye-x_nose\n",
    "            val3=y_nose-y_right_eye\n",
    "            val4=y_mouth_right-y_nose\n",
    "            val5=y_nose-y_right_eye\n",
    "            val6=y_mouth_right-y_nose\n",
    "            v1=2*val1\n",
    "            v2=2*val2\n",
    "            v3=2*val3\n",
    "            v4=2*val4\n",
    "            \n",
    "            if val1>v2 or val2>v1 or val5>2*val6 or val4>v3:\n",
    "                c1+=1\n",
    "                if c1>threshold_frame:\n",
    "                    mixer.music.play()\n",
    "                if c1>threshold_frame1:\n",
    "                    print('send to his fimaly')\n",
    "                    \n",
    "            else:\n",
    "                mixer.music.stop() \n",
    "                c1=0\n",
    "                      \n",
    "    #display resulting frame\n",
    "    cv2.imshow('frame',frame)\n",
    "    if cv2.waitKey(1) &0xFF == ord('q'):\n",
    "        break\n",
    "#When everything's done, release capture\n",
    "cap.release()\n",
    "cv2.destroyAllWindows()"
   ]
  },
  {
   "cell_type": "markdown",
   "metadata": {},
   "source": []
  }
 ],
 "metadata": {
  "kernelspec": {
   "display_name": "Python 3",
   "language": "python",
   "name": "python3"
  },
  "language_info": {
   "codemirror_mode": {
    "name": "ipython",
    "version": 3
   },
   "file_extension": ".py",
   "mimetype": "text/x-python",
   "name": "python",
   "nbconvert_exporter": "python",
   "pygments_lexer": "ipython3",
   "version": "3.7.6"
  }
 },
 "nbformat": 4,
 "nbformat_minor": 4
}
